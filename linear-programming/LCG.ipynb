{
 "cells": [
  {
   "cell_type": "code",
   "execution_count": 14,
   "metadata": {},
   "outputs": [
    {
     "name": "stdout",
     "output_type": "stream",
     "text": [
      "k  Zk  Uk\n",
      "\n",
      "0  7  0.4375  \n",
      "1  6  0.375  \n",
      "2  1  0.0625  \n",
      "3  8  0.5  \n",
      "4  11  0.6875  \n",
      "5  10  0.625  \n",
      "6  5  0.3125  \n",
      "7  12  0.75  \n",
      "8  15  0.9375  \n",
      "9  14  0.875  \n",
      "10  9  0.5625  \n",
      "11  0  0.0  \n",
      "12  3  0.1875  \n",
      "13  2  0.125  \n",
      "14  13  0.8125  \n",
      "15  4  0.25  \n",
      "16  7  0.4375  \n",
      "17  6  0.375  \n",
      "18  1  0.0625  \n",
      "19  8  0.5  \n",
      "20  11  0.6875  \n"
     ]
    }
   ],
   "source": [
    "a = 5\n",
    "c=3\n",
    "m=16\n",
    "Z0=7\n",
    "println(\"k  Zk  Uk\")\n",
    "println(\"\")\n",
    "Zk = Z0\n",
    "for k = 0:20\n",
    "    Uk = Zk/m\n",
    "    println(\"$k  $Zk  $Uk  \")\n",
    "    Zk = (a*Zk + c) % m    \n",
    "end"
   ]
  },
  {
   "cell_type": "code",
   "execution_count": 15,
   "metadata": {},
   "outputs": [
    {
     "data": {
      "text/plain": [
       "\"3039\""
      ]
     },
     "execution_count": 15,
     "metadata": {},
     "output_type": "execute_result"
    }
   ],
   "source": [
    "s = string(12345, base = 16)"
   ]
  },
  {
   "cell_type": "code",
   "execution_count": 16,
   "metadata": {},
   "outputs": [
    {
     "data": {
      "text/plain": [
       "\"1001110\""
      ]
     },
     "execution_count": 16,
     "metadata": {},
     "output_type": "execute_result"
    }
   ],
   "source": [
    "s = string(78, base = 2)"
   ]
  },
  {
   "cell_type": "code",
   "execution_count": 19,
   "metadata": {},
   "outputs": [
    {
     "data": {
      "text/plain": [
       "14"
      ]
     },
     "execution_count": 19,
     "metadata": {},
     "output_type": "execute_result"
    }
   ],
   "source": [
    "Int(0b1110)"
   ]
  },
  {
   "cell_type": "code",
   "execution_count": 23,
   "metadata": {},
   "outputs": [
    {
     "data": {
      "text/plain": [
       "12"
      ]
     },
     "execution_count": 23,
     "metadata": {},
     "output_type": "execute_result"
    }
   ],
   "source": [
    "Int(0b01100)"
   ]
  },
  {
   "cell_type": "code",
   "execution_count": null,
   "metadata": {},
   "outputs": [],
   "source": []
  }
 ],
 "metadata": {
  "kernelspec": {
   "display_name": "Julia 1.0.5",
   "language": "julia",
   "name": "julia-1.0"
  },
  "language_info": {
   "file_extension": ".jl",
   "mimetype": "application/julia",
   "name": "julia",
   "version": "1.0.5"
  }
 },
 "nbformat": 4,
 "nbformat_minor": 4
}
