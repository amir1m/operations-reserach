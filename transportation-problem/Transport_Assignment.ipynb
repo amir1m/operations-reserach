{
 "cells": [
  {
   "cell_type": "markdown",
   "metadata": {},
   "source": [
    "# The Transportation Problem:\n",
    "Milk in a milk shed area is collected on three routes A, B and C. There are four chilling centers P, Q, R and S where milk is kept before transporting it to a milk plant. Each route is able to supply on an average one thousand liters of milk per day. The supply of milk on routes A, B and C are 150, 160 and 90 thousand liters respectively. Daily capacity in thousand liters of chilling centers is 140, 120, 90 and 50 respectively. The cost of transporting 1000 liters of milk from each route (source) to each chilling center (destination) differs according to the distance. These costs (in Rs.) are shown in the following table.\n",
    "\n",
    "<img src=\"table1.png\" style=\"width:200px;height:150px\"/>\n",
    "\n",
    "The problem is to determine how many thousand liters of milk is to be transported from each route on daily basis in order to minimize the total cost of transportation.\n",
    "\n"
   ]
  },
  {
   "cell_type": "markdown",
   "metadata": {},
   "source": [
    "# Solution:"
   ]
  },
  {
   "cell_type": "code",
   "execution_count": 2,
   "metadata": {},
   "outputs": [],
   "source": [
    "using JuMP, GLPK, DelimitedFiles"
   ]
  },
  {
   "cell_type": "code",
   "execution_count": 3,
   "metadata": {},
   "outputs": [
    {
     "data": {
      "text/plain": [
       "5×6 Array{Any,2}:\n",
       "    \"\"  \"\"   140     120     90     50   \n",
       "    \"\"  \"\"      \"P\"     \"Q\"    \"R\"    \"S\"\n",
       " 150    \"A\"   16      18     21     12   \n",
       " 160    \"B\"   17      19     14     13   \n",
       "  90    \"C\"   32      11     15     10   "
      ]
     },
     "execution_count": 3,
     "metadata": {},
     "output_type": "execute_result"
    }
   ],
   "source": [
    "# Reading the data file and preparting arrays\n",
    "data_file = \"transportation-milk.csv\"\n",
    "data = readdlm(data_file, ',')"
   ]
  },
  {
   "cell_type": "code",
   "execution_count": 4,
   "metadata": {},
   "outputs": [
    {
     "data": {
      "text/plain": [
       "3-element Array{Any,1}:\n",
       " 150\n",
       " 160\n",
       "  90"
      ]
     },
     "execution_count": 4,
     "metadata": {},
     "output_type": "execute_result"
    }
   ],
   "source": [
    "supply_nodes = data[3:end, 2]\n",
    "s = data[3:end, 1]"
   ]
  },
  {
   "cell_type": "code",
   "execution_count": 5,
   "metadata": {},
   "outputs": [
    {
     "data": {
      "text/plain": [
       "4-element Array{Any,1}:\n",
       " 140\n",
       " 120\n",
       "  90\n",
       "  50"
      ]
     },
     "execution_count": 5,
     "metadata": {},
     "output_type": "execute_result"
    }
   ],
   "source": [
    "demand_nodes = collect(data[2, 3:end])\n",
    "d = collect(data[1, 3:end])"
   ]
  },
  {
   "cell_type": "code",
   "execution_count": 6,
   "metadata": {},
   "outputs": [
    {
     "data": {
      "text/plain": [
       "3×4 Array{Any,2}:\n",
       " 16  18  21  12\n",
       " 17  19  14  13\n",
       " 32  11  15  10"
      ]
     },
     "execution_count": 6,
     "metadata": {},
     "output_type": "execute_result"
    }
   ],
   "source": [
    "c = data[3:end, 3:end]"
   ]
  },
  {
   "cell_type": "code",
   "execution_count": 7,
   "metadata": {},
   "outputs": [
    {
     "data": {
      "text/plain": [
       "Dict{SubString{String},Int64} with 4 entries:\n",
       "  \"Q\" => 120\n",
       "  \"S\" => 50\n",
       "  \"P\" => 140\n",
       "  \"R\" => 90"
      ]
     },
     "execution_count": 7,
     "metadata": {},
     "output_type": "execute_result"
    }
   ],
   "source": [
    "# Converting arrays to dictionaries\n",
    "s_dict = Dict(supply_nodes .=> s)\n",
    "d_dict = Dict(demand_nodes .=> d)"
   ]
  },
  {
   "cell_type": "code",
   "execution_count": 8,
   "metadata": {},
   "outputs": [],
   "source": [
    "c_dict = Dict()\n",
    "for i in 1:length(supply_nodes)\n",
    "  for j in 1:length(demand_nodes)\n",
    "    c_dict[supply_nodes[i], demand_nodes[j]] = c[i,j]\n",
    "  end\n",
    "end"
   ]
  },
  {
   "cell_type": "code",
   "execution_count": 9,
   "metadata": {},
   "outputs": [
    {
     "data": {
      "text/latex": [
       "$$ \\begin{alignat*}{1}\\text{feasibility}\\\\\n",
       "\\text{Subject to} \\quad\\end{alignat*}\n",
       " $$"
      ],
      "text/plain": [
       "A JuMP Model\n",
       "Feasibility problem with:\n",
       "Variables: 0\n",
       "Model mode: AUTOMATIC\n",
       "CachingOptimizer state: EMPTY_OPTIMIZER\n",
       "Solver name: GLPK"
      ]
     },
     "execution_count": 9,
     "metadata": {},
     "output_type": "execute_result"
    }
   ],
   "source": [
    "# Preparing an Optimization Model\n",
    "tp = Model(with_optimizer(GLPK.Optimizer))"
   ]
  },
  {
   "cell_type": "code",
   "execution_count": 10,
   "metadata": {},
   "outputs": [
    {
     "data": {
      "text/plain": [
       "2-dimensional DenseAxisArray{VariableRef,2,...} with index sets:\n",
       "    Dimension 1, Any[\"A\", \"B\", \"C\"]\n",
       "    Dimension 2, Any[\"P\", \"Q\", \"R\", \"S\"]\n",
       "And data, a 3×4 Array{VariableRef,2}:\n",
       " x[A,P]  x[A,Q]  x[A,R]  x[A,S]\n",
       " x[B,P]  x[B,Q]  x[B,R]  x[B,S]\n",
       " x[C,P]  x[C,Q]  x[C,R]  x[C,S]"
      ]
     },
     "execution_count": 10,
     "metadata": {},
     "output_type": "execute_result"
    }
   ],
   "source": [
    "@variable(tp, x[supply_nodes, demand_nodes] >= 0)"
   ]
  },
  {
   "cell_type": "code",
   "execution_count": 11,
   "metadata": {},
   "outputs": [
    {
     "data": {
      "text/latex": [
       "$$ 16 x_{A,P} + 18 x_{A,Q} + 21 x_{A,R} + 12 x_{A,S} + 17 x_{B,P} + 19 x_{B,Q} + 14 x_{B,R} + 13 x_{B,S} + 32 x_{C,P} + 11 x_{C,Q} + 15 x_{C,R} + 10 x_{C,S} $$"
      ],
      "text/plain": [
       "16 x[A,P] + 18 x[A,Q] + 21 x[A,R] + 12 x[A,S] + 17 x[B,P] + 19 x[B,Q] + 14 x[B,R] + 13 x[B,S] + 32 x[C,P] + 11 x[C,Q] + 15 x[C,R] + 10 x[C,S]"
      ]
     },
     "execution_count": 11,
     "metadata": {},
     "output_type": "execute_result"
    }
   ],
   "source": [
    "@objective(tp, Min, sum(c_dict[i,j]*x[i,j]\n",
    "                    for i in supply_nodes, j in demand_nodes))"
   ]
  },
  {
   "cell_type": "code",
   "execution_count": 12,
   "metadata": {},
   "outputs": [],
   "source": [
    "for i in supply_nodes\n",
    "  @constraint(tp, sum(x[i,j] for j in demand_nodes) == s_dict[i] )\n",
    "end"
   ]
  },
  {
   "cell_type": "code",
   "execution_count": 13,
   "metadata": {},
   "outputs": [],
   "source": [
    "for j in demand_nodes\n",
    "  @constraint(tp, sum(x[i,j] for i in supply_nodes) == d_dict[j] )\n",
    "end"
   ]
  },
  {
   "cell_type": "code",
   "execution_count": 14,
   "metadata": {},
   "outputs": [
    {
     "name": "stdout",
     "output_type": "stream",
     "text": [
      "Min 16 x[A,P] + 18 x[A,Q] + 21 x[A,R] + 12 x[A,S] + 17 x[B,P] + 19 x[B,Q] + 14 x[B,R] + 13 x[B,S] + 32 x[C,P] + 11 x[C,Q] + 15 x[C,R] + 10 x[C,S]\n",
      "Subject to\n",
      " x[A,P] + x[A,Q] + x[A,R] + x[A,S] = 150.0\n",
      " x[B,P] + x[B,Q] + x[B,R] + x[B,S] = 160.0\n",
      " x[C,P] + x[C,Q] + x[C,R] + x[C,S] = 90.0\n",
      " x[A,P] + x[B,P] + x[C,P] = 140.0\n",
      " x[A,Q] + x[B,Q] + x[C,Q] = 120.0\n",
      " x[A,R] + x[B,R] + x[C,R] = 90.0\n",
      " x[A,S] + x[B,S] + x[C,S] = 50.0\n",
      " x[A,P] ≥ 0.0\n",
      " x[A,Q] ≥ 0.0\n",
      " x[A,R] ≥ 0.0\n",
      " x[A,S] ≥ 0.0\n",
      " x[B,P] ≥ 0.0\n",
      " x[B,Q] ≥ 0.0\n",
      " x[B,R] ≥ 0.0\n",
      " x[B,S] ≥ 0.0\n",
      " x[C,P] ≥ 0.0\n",
      " x[C,Q] ≥ 0.0\n",
      " x[C,R] ≥ 0.0\n",
      " x[C,S] ≥ 0.0\n"
     ]
    }
   ],
   "source": [
    "print(tp)"
   ]
  },
  {
   "cell_type": "code",
   "execution_count": 15,
   "metadata": {},
   "outputs": [],
   "source": [
    "optimize!(tp)"
   ]
  },
  {
   "cell_type": "code",
   "execution_count": 19,
   "metadata": {},
   "outputs": [
    {
     "data": {
      "text/plain": [
       "2-dimensional DenseAxisArray{Float64,2,...} with index sets:\n",
       "    Dimension 1, Any[\"A\", \"B\", \"C\"]\n",
       "    Dimension 2, Any[\"P\", \"Q\", \"R\", \"S\"]\n",
       "And data, a 3×4 Array{Float64,2}:\n",
       " 140.0   0.0   0.0  10.0\n",
       "   0.0  30.0  90.0  40.0\n",
       "   0.0  90.0   0.0   0.0"
      ]
     },
     "execution_count": 19,
     "metadata": {},
     "output_type": "execute_result"
    }
   ],
   "source": [
    "x_star = JuMP.value.(x)"
   ]
  },
  {
   "cell_type": "code",
   "execution_count": 20,
   "metadata": {},
   "outputs": [
    {
     "data": {
      "text/plain": [
       "2-dimensional DenseAxisArray{Float64,2,...} with index sets:\n",
       "    Dimension 1, Any[\"A\", \"B\", \"C\"]\n",
       "    Dimension 2, Any[\"P\", \"Q\", \"R\", \"S\"]\n",
       "And data, a 3×4 Array{Float64,2}:\n",
       " 140.0   0.0   0.0  10.0\n",
       "   0.0  30.0  90.0  40.0\n",
       "   0.0  90.0   0.0   0.0"
      ]
     },
     "execution_count": 20,
     "metadata": {},
     "output_type": "execute_result"
    }
   ],
   "source": [
    "x_star"
   ]
  },
  {
   "cell_type": "code",
   "execution_count": 106,
   "metadata": {},
   "outputs": [
    {
     "name": "stdout",
     "output_type": "stream",
     "text": [
      "Milk to be transported in thousands of liter optimally is:\n",
      "A -> P : 140.0, Cost=16\n",
      "A -> Q : 0.0, Cost=18\n",
      "A -> R : 0.0, Cost=21\n",
      "A -> S : 10.0, Cost=12\n",
      "B -> P : 0.0, Cost=17\n",
      "B -> Q : 30.0, Cost=19\n",
      "B -> R : 90.0, Cost=14\n",
      "B -> S : 40.0, Cost=13\n",
      "C -> P : 0.0, Cost=32\n",
      "C -> Q : 90.0, Cost=11\n",
      "C -> R : 0.0, Cost=15\n",
      "C -> S : 0.0, Cost=10\n",
      "\n",
      "Total Cost = 140.0 X 16 + 0.0 X 18 + 0.0 X 21 + 10.0 X 12 + 0.0 X 17 + 30.0 X 19 + 90.0 X 14 + 40.0 X 13 + 0.0 X 32 + 90.0 X 11 + 0.0 X 15 + 0.0 X 10  = Rs.5700.0/-\n"
     ]
    }
   ],
   "source": [
    "total_cost = 0\n",
    "total_string = \"\"\n",
    "println(\"Milk to be transported in thousands of liter optimally is:\")\n",
    "for route in [\"A\", \"B\", \"C\"]\n",
    "    for center in [\"P\", \"Q\", \"R\", \"S\"]\n",
    "        println(\"$route -> $center : \", x_star[route, center], \", Cost=\" ,c_dict[route, center])\n",
    "        total_string = string(total_string, x_star[route, center],\" X \", c_dict[route, center], \" + \")\n",
    "        total_cost = total_cost + (x_star[route, center] * c_dict[route, center])\n",
    "        \n",
    "    end\n",
    "end\n",
    "\n",
    "println(\"\\nTotal Cost = \",chop(total_string,tail = 2),\" = Rs.\", total_cost,\"/-\")"
   ]
  },
  {
   "cell_type": "code",
   "execution_count": null,
   "metadata": {},
   "outputs": [],
   "source": []
  }
 ],
 "metadata": {
  "kernelspec": {
   "display_name": "Julia 1.0.5",
   "language": "julia",
   "name": "julia-1.0"
  },
  "language_info": {
   "file_extension": ".jl",
   "mimetype": "application/julia",
   "name": "julia",
   "version": "1.0.5"
  }
 },
 "nbformat": 4,
 "nbformat_minor": 4
}
